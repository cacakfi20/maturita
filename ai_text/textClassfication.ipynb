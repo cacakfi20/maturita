{
 "cells": [
  {
   "cell_type": "code",
   "execution_count": 1,
   "metadata": {},
   "outputs": [],
   "source": [
    "import pandas as pd\n",
    "import numpy as np\n",
    "import tensorflow as tf\n",
    "import pickle\n",
    "from text_processing import preprocess_text\n",
    "from tensorflow.keras.preprocessing.text import Tokenizer\n",
    "from tensorflow.keras.preprocessing.sequence import pad_sequences\n",
    "from tensorflow.keras.models import Sequential\n",
    "from tensorflow.keras.layers import Dense, Embedding, LSTM, Dropout\n",
    "from tensorflow.keras.callbacks import EarlyStopping\n",
    "from tensorflow.keras.utils import to_categorical\n",
    "from sklearn.preprocessing import LabelEncoder\n",
    "from sklearn.model_selection import train_test_split\n",
    "\n",
    "df = pd.read_excel('../data_en.xlsx', nrows=7600)"
   ]
  },
  {
   "cell_type": "code",
   "execution_count": 2,
   "metadata": {},
   "outputs": [],
   "source": [
    "import tensorflow as tf\n",
    "from sklearn.model_selection import train_test_split\n",
    "\n",
    "# Tokenize and preprocess the text\n",
    "texts = df['text'].astype(str).apply(preprocess_text).values"
   ]
  },
  {
   "cell_type": "code",
   "execution_count": 3,
   "metadata": {},
   "outputs": [
    {
     "name": "stdout",
     "output_type": "stream",
     "text": [
      "(7590, 50)\n"
     ]
    }
   ],
   "source": [
    "tokenizer = Tokenizer() \n",
    "tokenizer.fit_on_texts(texts)\n",
    "sequences = tokenizer.texts_to_sequences(texts)\n",
    "data = pad_sequences(sequences)\n",
    "print(data.shape)\n",
    "\n",
    "with open('tokenizer.pickle', 'wb') as handle:\n",
    "    pickle.dump(tokenizer, handle, protocol=pickle.HIGHEST_PROTOCOL)\n"
   ]
  },
  {
   "cell_type": "code",
   "execution_count": 4,
   "metadata": {},
   "outputs": [],
   "source": [
    "labels = df['id'].values\n",
    "encoder = LabelEncoder()\n",
    "labels = encoder.fit_transform(labels)\n",
    "labels = to_categorical(labels)\n",
    "\n",
    "with open('encoder.pickle', 'wb') as handle:\n",
    "    pickle.dump(encoder, handle, protocol=pickle.HIGHEST_PROTOCOL)\n",
    "\n"
   ]
  },
  {
   "cell_type": "code",
   "execution_count": 5,
   "metadata": {},
   "outputs": [],
   "source": [
    "X_train, X_test, y_train, y_test = train_test_split(data, labels, test_size=0.3, random_state=42, shuffle=True)"
   ]
  },
  {
   "cell_type": "code",
   "execution_count": 6,
   "metadata": {},
   "outputs": [],
   "source": [
    "embedding_dim = 90\n",
    "LSTM1 = 80\n",
    "LSTM2 = 90\n",
    "optimalizer = 'adam'\n",
    "batch_size = 2\n",
    "epochs = 8"
   ]
  },
  {
   "cell_type": "code",
   "execution_count": 7,
   "metadata": {},
   "outputs": [
    {
     "name": "stdout",
     "output_type": "stream",
     "text": [
      "50\n",
      "33\n"
     ]
    }
   ],
   "source": [
    "VOCAB_SIZE = len(tokenizer.word_index) + 1\n",
    "EMBEDDING_DIM = embedding_dim\n",
    "MAX_LEN = len(data[0])\n",
    "print(MAX_LEN)\n",
    "OUTPUT_CLASSES = len(y_train[0])\n",
    "print(OUTPUT_CLASSES)"
   ]
  },
  {
   "cell_type": "markdown",
   "metadata": {},
   "source": [
    "Model"
   ]
  },
  {
   "cell_type": "code",
   "execution_count": 8,
   "metadata": {},
   "outputs": [],
   "source": [
    "model = Sequential()\n",
    "model.add(Embedding(VOCAB_SIZE, EMBEDDING_DIM, input_length=MAX_LEN))\n",
    "model.add(LSTM(LSTM1, return_sequences=True))  # Změna na True pro více vrstev LSTM\n",
    "model.add(Dropout(0.5))  # Přidání Dropout vrstvy\n",
    "model.add(LSTM(LSTM2))  # Další vrstva LSTM\n",
    "model.add(Dropout(0.5))  # Přidání Dropout vrstvy\n",
    "model.add(Dense(OUTPUT_CLASSES, activation='softmax'))\n",
    "\n",
    "model.compile(loss='categorical_crossentropy',\n",
    "              optimizer=optimalizer,\n",
    "              metrics=['accuracy'])\n"
   ]
  },
  {
   "cell_type": "code",
   "execution_count": 9,
   "metadata": {},
   "outputs": [
    {
     "name": "stdout",
     "output_type": "stream",
     "text": [
      "Epoch 1/8\n",
      "2657/2657 [==============================] - 75s 27ms/step - loss: 2.4941 - accuracy: 0.2710 - val_loss: 1.3570 - val_accuracy: 0.5832\n",
      "Epoch 2/8\n",
      "2657/2657 [==============================] - 77s 29ms/step - loss: 0.9243 - accuracy: 0.7267 - val_loss: 0.6440 - val_accuracy: 0.8173\n",
      "Epoch 3/8\n",
      "2657/2657 [==============================] - 79s 30ms/step - loss: 0.5010 - accuracy: 0.8526 - val_loss: 0.5258 - val_accuracy: 0.8507\n",
      "Epoch 4/8\n",
      "2657/2657 [==============================] - 83s 31ms/step - loss: 0.3661 - accuracy: 0.8931 - val_loss: 0.4916 - val_accuracy: 0.8608\n",
      "Epoch 5/8\n",
      "2657/2657 [==============================] - 104s 39ms/step - loss: 0.2705 - accuracy: 0.9183 - val_loss: 0.4633 - val_accuracy: 0.8827\n",
      "Epoch 6/8\n",
      "2657/2657 [==============================] - 84s 31ms/step - loss: 0.2018 - accuracy: 0.9401 - val_loss: 0.4564 - val_accuracy: 0.8845\n",
      "Epoch 7/8\n",
      "2657/2657 [==============================] - 89s 34ms/step - loss: 0.1762 - accuracy: 0.9430 - val_loss: 0.4124 - val_accuracy: 0.8977\n",
      "Epoch 8/8\n",
      "2657/2657 [==============================] - 101s 38ms/step - loss: 0.1463 - accuracy: 0.9561 - val_loss: 0.4827 - val_accuracy: 0.8858\n"
     ]
    },
    {
     "data": {
      "text/plain": [
       "<keras.callbacks.History at 0x121f4ac6fb0>"
      ]
     },
     "execution_count": 9,
     "metadata": {},
     "output_type": "execute_result"
    }
   ],
   "source": [
    "model.fit(X_train, y_train,\n",
    "          batch_size=batch_size,\n",
    "          epochs=epochs,  # Zvýšení počtu epoch\n",
    "          validation_data=(X_test, y_test))"
   ]
  },
  {
   "cell_type": "code",
   "execution_count": 10,
   "metadata": {},
   "outputs": [
    {
     "name": "stderr",
     "output_type": "stream",
     "text": [
      "WARNING:absl:Found untraced functions such as _update_step_xla, lstm_cell_layer_call_fn, lstm_cell_layer_call_and_return_conditional_losses, lstm_cell_1_layer_call_fn, lstm_cell_1_layer_call_and_return_conditional_losses while saving (showing 5 of 5). These functions will not be directly callable after loading.\n"
     ]
    },
    {
     "name": "stdout",
     "output_type": "stream",
     "text": [
      "INFO:tensorflow:Assets written to: text_model_en\\assets\n"
     ]
    },
    {
     "name": "stderr",
     "output_type": "stream",
     "text": [
      "INFO:tensorflow:Assets written to: text_model_en\\assets\n"
     ]
    }
   ],
   "source": [
    "model.save('text_model_en')"
   ]
  },
  {
   "cell_type": "code",
   "execution_count": 29,
   "metadata": {},
   "outputs": [],
   "source": [
    "from keras import models\n",
    "from keras.models import load_model\n",
    "import pickle\n",
    "from text_processing import preprocess_text\n",
    "model = load_model('../models/text_models/text_model_en')"
   ]
  },
  {
   "cell_type": "code",
   "execution_count": 35,
   "metadata": {},
   "outputs": [
    {
     "name": "stdout",
     "output_type": "stream",
     "text": [
      "1/1 [==============================] - 0s 30ms/step\n",
      "judo\n",
      "jistota: 99.83446598052979 %\n"
     ]
    }
   ],
   "source": [
    "from tensorflow.keras.preprocessing.sequence import pad_sequences\n",
    "from text_processing import preprocess_text\n",
    "class_names = [\"lukostřelba\", \"baseball\", \"basketbal\", \"kulečník\", \"bmx\", \"bowling\", \"box\", \"jízda na býku\", \"roztleskávání\", \"curling\", \"šerm\", \"krasobruslení\", \"fotbal\", \"závody formule 1\", \"golf\", \"skok do výšky\", \"hokej\", \"dostihy\", \"hydroplánové závody\", \"judo\", \"motocyklové závody\", \"pole dance\", \"rugby\", \"skoky na lyžích\", \"snowboarding\", \"rychlobruslení\", \"surfování\", \"plavání\", \"stolní tenis\", \"tenis\", \"dráhové kolo\", \"volejbal\", \"vzpírání\"]\n",
    "with open('tokenizer.pickle', 'rb') as handle:\n",
    "    tokenizer = pickle.load(handle)\n",
    "with open('encoder.pickle', 'rb') as handle:\n",
    "    encoder = pickle.load(handle)\n",
    "    string = preprocess_text('fighting sport where figters box in the ring with gloves and one referee')\n",
    "sequences = tokenizer.texts_to_sequences([string])\n",
    "data = pad_sequences(sequences, maxlen=50)\n",
    "predictions = model.predict(data)\n",
    "predicted_labels = predictions.argmax(axis=-1)\n",
    "predicted_labels = encoder.inverse_transform(predicted_labels)\n",
    "predicted_confidence = predictions.max(axis=-1)\n",
    "print(class_names[predicted_labels[0]])\n",
    "print(f\"jistota: {predicted_confidence[0]*100} %\")"
   ]
  }
 ],
 "metadata": {
  "kernelspec": {
   "display_name": "base",
   "language": "python",
   "name": "python3"
  },
  "language_info": {
   "codemirror_mode": {
    "name": "ipython",
    "version": 3
   },
   "file_extension": ".py",
   "mimetype": "text/x-python",
   "name": "python",
   "nbconvert_exporter": "python",
   "pygments_lexer": "ipython3",
   "version": "3.10.9"
  }
 },
 "nbformat": 4,
 "nbformat_minor": 2
}
