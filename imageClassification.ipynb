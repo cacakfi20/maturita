{
 "cells": [
  {
   "cell_type": "code",
   "execution_count": 27,
   "metadata": {},
   "outputs": [],
   "source": [
    "import matplotlib.pyplot as plt\n",
    "import numpy as np\n",
    "import PIL\n",
    "import tensorflow as tf\n",
    "\n",
    "from tensorflow import keras\n",
    "from tensorflow.keras import layers\n",
    "from tensorflow.keras.models import Sequential\n",
    "from tensorflow.keras.layers import Conv2D, MaxPooling2D, Flatten, Dense, Dropout, RandomRotation, RandomFlip\n",
    "from tensorflow.keras.preprocessing.image import ImageDataGenerator\n",
    "\n",
    "import pathlib"
   ]
  },
  {
   "cell_type": "code",
   "execution_count": 28,
   "metadata": {},
   "outputs": [
    {
     "name": "stdout",
     "output_type": "stream",
     "text": [
      "Počet trénovacích obrázků: 4720\n",
      "Počet validačních obrázků: 165\n",
      "Počet testovacích obrázků: 165\n"
     ]
    }
   ],
   "source": [
    "train_url = './data/train/'\n",
    "valid_url = './data/valid/'\n",
    "test_url = './data/test/'\n",
    "\n",
    "train_data_dir = pathlib.Path(train_url).with_suffix('')\n",
    "valid_data_dir = pathlib.Path(test_url).with_suffix('')\n",
    "test_data_dir = pathlib.Path(valid_url).with_suffix('')\n",
    "\n",
    "train_image_count = len(list(train_data_dir.glob('*/*.jpg')))\n",
    "valid_image_count = len(list(valid_data_dir.glob('*/*.jpg')))\n",
    "test_image_count = len(list(test_data_dir.glob('*/*.jpg')))\n",
    "\n",
    "print(f'Počet trénovacích obrázků: {train_image_count}')\n",
    "print(f'Počet validačních obrázků: {valid_image_count}')\n",
    "print(f'Počet testovacích obrázků: {test_image_count}')"
   ]
  },
  {
   "cell_type": "code",
   "execution_count": 29,
   "metadata": {},
   "outputs": [],
   "source": [
    "batch_size = 32\n",
    "img_height = 32\n",
    "img_width = 32"
   ]
  },
  {
   "cell_type": "code",
   "execution_count": 30,
   "metadata": {},
   "outputs": [
    {
     "name": "stdout",
     "output_type": "stream",
     "text": [
      "Found 4720 files belonging to 33 classes.\n",
      "Found 165 files belonging to 33 classes.\n"
     ]
    }
   ],
   "source": [
    "train_ds = tf.keras.utils.image_dataset_from_directory(\n",
    "    train_data_dir,\n",
    "    seed=0,\n",
    "    color_mode='rgb',\n",
    "    image_size=(img_height, img_width),\n",
    "    batch_size=batch_size\n",
    ")\n",
    "\n",
    "val_ds = tf.keras.utils.image_dataset_from_directory(\n",
    "    valid_data_dir,\n",
    "    seed=0,\n",
    "    color_mode='rgb',\n",
    "    image_size=(img_height, img_width),\n",
    "    batch_size=batch_size\n",
    ")"
   ]
  },
  {
   "cell_type": "code",
   "execution_count": 31,
   "metadata": {},
   "outputs": [
    {
     "name": "stdout",
     "output_type": "stream",
     "text": [
      "['archery', 'baseball', 'basketball', 'billiards', 'bmx', 'bowling', 'boxing', 'bull riding', 'cheerleading', 'curling', 'fencing', 'figure skating', 'football', 'formula 1 racing', 'golf', 'high jump', 'hockey', 'horse racing', 'hydroplane racing', 'judo', 'motorcycle racing', 'pole dancing', 'rugby', 'ski jumping', 'snow boarding', 'speed skating', 'surfing', 'swimming', 'table tennis', 'tennis', 'track bicycle', 'volleyball', 'weightlifting']\n"
     ]
    }
   ],
   "source": [
    "class_names = train_ds.class_names\n",
    "print(class_names)"
   ]
  },
  {
   "cell_type": "code",
   "execution_count": 32,
   "metadata": {},
   "outputs": [],
   "source": [
    "AUTOTUNE = tf.data.AUTOTUNE\n",
    "\n",
    "train_ds = train_ds.cache().shuffle(1000).prefetch(buffer_size=AUTOTUNE)\n",
    "val_ds = val_ds.cache().prefetch(buffer_size=AUTOTUNE)"
   ]
  },
  {
   "cell_type": "code",
   "execution_count": 33,
   "metadata": {},
   "outputs": [
    {
     "name": "stdout",
     "output_type": "stream",
     "text": [
      "0.0 1.0\n"
     ]
    }
   ],
   "source": [
    "normalization_layer = layers.Rescaling(1./255)\n",
    "\n",
    "normalized_ds = train_ds.map(lambda x, y: (normalization_layer(x), y))\n",
    "image_batch, labels_batch = next(iter(normalized_ds))\n",
    "first_image = image_batch[0]        \n",
    "\n",
    "print(np.min(first_image), np.max(first_image))"
   ]
  },
  {
   "cell_type": "markdown",
   "metadata": {},
   "source": [
    "Model"
   ]
  },
  {
   "cell_type": "code",
   "execution_count": 68,
   "metadata": {},
   "outputs": [
    {
     "name": "stdout",
     "output_type": "stream",
     "text": [
      "33\n"
     ]
    }
   ],
   "source": [
    "classes_len = len(class_names)\n",
    "print(classes_len)\n",
    "model = Sequential()\n",
    "model.add(RandomFlip(\"vertical\", input_shape=(img_height, img_width, 3)))\n",
    "model.add(RandomRotation(0.2))\n",
    "model.add(Conv2D(32, (3, 3), activation='relu'))\n",
    "model.add(MaxPooling2D(pool_size = (2, 2)))\n",
    "model.add(Conv2D(64, (3, 3), activation='relu'))\n",
    "model.add(MaxPooling2D(pool_size = (2, 2)))\n",
    "model.add(Conv2D(128, (3, 3), activation='relu'))\n",
    "model.add(MaxPooling2D(pool_size = (2, 2)))\n",
    "model.add(Dense(64, activation = 'relu'))\n",
    "model.add(Dropout(0.5))\n",
    "model.add(Flatten())\n",
    "model.add(Dense(classes_len, activation = 'softmax'))\n",
    "\n",
    "model.compile(optimizer=tf.keras.optimizers.Adam(0.001), loss=tf.keras.losses.SparseCategoricalCrossentropy(), metrics=['accuracy'])"
   ]
  },
  {
   "cell_type": "code",
   "execution_count": 69,
   "metadata": {},
   "outputs": [
    {
     "name": "stdout",
     "output_type": "stream",
     "text": [
      "Model: \"sequential_24\"\n",
      "_________________________________________________________________\n",
      " Layer (type)                Output Shape              Param #   \n",
      "=================================================================\n",
      " random_flip_24 (RandomFlip)  (None, 32, 32, 3)        0         \n",
      "                                                                 \n",
      " random_rotation_13 (RandomR  (None, 32, 32, 3)        0         \n",
      " otation)                                                        \n",
      "                                                                 \n",
      " conv2d_66 (Conv2D)          (None, 30, 30, 32)        896       \n",
      "                                                                 \n",
      " max_pooling2d_65 (MaxPoolin  (None, 15, 15, 32)       0         \n",
      " g2D)                                                            \n",
      "                                                                 \n",
      " conv2d_67 (Conv2D)          (None, 13, 13, 64)        18496     \n",
      "                                                                 \n",
      " max_pooling2d_66 (MaxPoolin  (None, 6, 6, 64)         0         \n",
      " g2D)                                                            \n",
      "                                                                 \n",
      " conv2d_68 (Conv2D)          (None, 4, 4, 128)         73856     \n",
      "                                                                 \n",
      " max_pooling2d_67 (MaxPoolin  (None, 2, 2, 128)        0         \n",
      " g2D)                                                            \n",
      "                                                                 \n",
      " dense_43 (Dense)            (None, 2, 2, 64)          8256      \n",
      "                                                                 \n",
      " dropout_26 (Dropout)        (None, 2, 2, 64)          0         \n",
      "                                                                 \n",
      " flatten_13 (Flatten)        (None, 256)               0         \n",
      "                                                                 \n",
      " dense_44 (Dense)            (None, 33)                8481      \n",
      "                                                                 \n",
      "=================================================================\n",
      "Total params: 109,985\n",
      "Trainable params: 109,985\n",
      "Non-trainable params: 0\n",
      "_________________________________________________________________\n"
     ]
    }
   ],
   "source": [
    "model.summary()"
   ]
  },
  {
   "cell_type": "code",
   "execution_count": 70,
   "metadata": {},
   "outputs": [
    {
     "name": "stdout",
     "output_type": "stream",
     "text": [
      "Epoch 1/50\n"
     ]
    },
    {
     "name": "stdout",
     "output_type": "stream",
     "text": [
      "148/148 [==============================] - 14s 76ms/step - loss: 5.0448 - accuracy: 0.0409 - val_loss: 3.4853 - val_accuracy: 0.0545\n",
      "Epoch 2/50\n",
      "148/148 [==============================] - 11s 72ms/step - loss: 3.4742 - accuracy: 0.0581 - val_loss: 3.4518 - val_accuracy: 0.0727\n",
      "Epoch 3/50\n",
      "148/148 [==============================] - 11s 73ms/step - loss: 3.4343 - accuracy: 0.0646 - val_loss: 3.4743 - val_accuracy: 0.0545\n",
      "Epoch 4/50\n",
      "148/148 [==============================] - 11s 74ms/step - loss: 3.4229 - accuracy: 0.0636 - val_loss: 3.4488 - val_accuracy: 0.0606\n",
      "Epoch 5/50\n",
      "148/148 [==============================] - 12s 80ms/step - loss: 3.3967 - accuracy: 0.0714 - val_loss: 3.4577 - val_accuracy: 0.0545\n",
      "Epoch 6/50\n",
      "148/148 [==============================] - 11s 76ms/step - loss: 3.3589 - accuracy: 0.0729 - val_loss: 3.3631 - val_accuracy: 0.0848\n",
      "Epoch 7/50\n",
      "148/148 [==============================] - 11s 73ms/step - loss: 3.3321 - accuracy: 0.0856 - val_loss: 3.3242 - val_accuracy: 0.0848\n",
      "Epoch 8/50\n",
      "148/148 [==============================] - 11s 73ms/step - loss: 3.2866 - accuracy: 0.0924 - val_loss: 3.2929 - val_accuracy: 0.0970\n",
      "Epoch 9/50\n",
      "148/148 [==============================] - 11s 74ms/step - loss: 3.2499 - accuracy: 0.1011 - val_loss: 3.2071 - val_accuracy: 0.1455\n",
      "Epoch 10/50\n",
      "148/148 [==============================] - 11s 73ms/step - loss: 3.2334 - accuracy: 0.0983 - val_loss: 3.1837 - val_accuracy: 0.1212\n",
      "Epoch 11/50\n",
      "148/148 [==============================] - 11s 74ms/step - loss: 3.2214 - accuracy: 0.1059 - val_loss: 3.0999 - val_accuracy: 0.1515\n",
      "Epoch 12/50\n",
      "148/148 [==============================] - 11s 73ms/step - loss: 3.1224 - accuracy: 0.1201 - val_loss: 3.0505 - val_accuracy: 0.1636\n",
      "Epoch 13/50\n",
      "148/148 [==============================] - 11s 74ms/step - loss: 3.0969 - accuracy: 0.1261 - val_loss: 3.0295 - val_accuracy: 0.1636\n",
      "Epoch 14/50\n",
      "148/148 [==============================] - 11s 77ms/step - loss: 3.0294 - accuracy: 0.1297 - val_loss: 2.9186 - val_accuracy: 0.1455\n",
      "Epoch 15/50\n",
      "148/148 [==============================] - 11s 73ms/step - loss: 3.0010 - accuracy: 0.1428 - val_loss: 2.9142 - val_accuracy: 0.1515\n",
      "Epoch 16/50\n",
      "148/148 [==============================] - 11s 74ms/step - loss: 2.9573 - accuracy: 0.1502 - val_loss: 3.0497 - val_accuracy: 0.1455\n",
      "Epoch 17/50\n",
      "148/148 [==============================] - 11s 75ms/step - loss: 2.9032 - accuracy: 0.1665 - val_loss: 2.8626 - val_accuracy: 0.2121\n",
      "Epoch 18/50\n",
      "148/148 [==============================] - 11s 75ms/step - loss: 2.8853 - accuracy: 0.1733 - val_loss: 3.1744 - val_accuracy: 0.1697\n",
      "Epoch 19/50\n",
      "148/148 [==============================] - 11s 73ms/step - loss: 2.8848 - accuracy: 0.1748 - val_loss: 3.0083 - val_accuracy: 0.1636\n",
      "Epoch 20/50\n",
      "148/148 [==============================] - 11s 76ms/step - loss: 2.8584 - accuracy: 0.1807 - val_loss: 2.7794 - val_accuracy: 0.2121\n",
      "Epoch 21/50\n",
      "148/148 [==============================] - 11s 75ms/step - loss: 2.8518 - accuracy: 0.1831 - val_loss: 2.7938 - val_accuracy: 0.2182\n",
      "Epoch 22/50\n",
      "148/148 [==============================] - 11s 76ms/step - loss: 2.7983 - accuracy: 0.1894 - val_loss: 2.9057 - val_accuracy: 0.1879\n",
      "Epoch 23/50\n",
      "148/148 [==============================] - 11s 75ms/step - loss: 2.8069 - accuracy: 0.1979 - val_loss: 2.9088 - val_accuracy: 0.1758\n",
      "Epoch 24/50\n",
      "148/148 [==============================] - 11s 75ms/step - loss: 2.7790 - accuracy: 0.2097 - val_loss: 2.8552 - val_accuracy: 0.2121\n",
      "Epoch 25/50\n",
      "148/148 [==============================] - 11s 73ms/step - loss: 2.7802 - accuracy: 0.2078 - val_loss: 2.7871 - val_accuracy: 0.1939\n",
      "Epoch 26/50\n",
      "148/148 [==============================] - 11s 75ms/step - loss: 2.7241 - accuracy: 0.2070 - val_loss: 2.9673 - val_accuracy: 0.1758\n",
      "Epoch 27/50\n",
      "  5/148 [>.............................] - ETA: 10s - loss: 2.5978 - accuracy: 0.2562"
     ]
    },
    {
     "ename": "KeyboardInterrupt",
     "evalue": "",
     "output_type": "error",
     "traceback": [
      "\u001b[1;31m---------------------------------------------------------------------------\u001b[0m",
      "\u001b[1;31mKeyboardInterrupt\u001b[0m                         Traceback (most recent call last)",
      "\u001b[1;32mc:\\Users\\user\\Desktop\\maturita\\imageClassification.ipynb Cell 11\u001b[0m line \u001b[0;36m2\n\u001b[0;32m      <a href='vscode-notebook-cell:/c%3A/Users/user/Desktop/maturita/imageClassification.ipynb#X13sZmlsZQ%3D%3D?line=0'>1</a>\u001b[0m epochs \u001b[39m=\u001b[39m \u001b[39m50\u001b[39m\n\u001b[1;32m----> <a href='vscode-notebook-cell:/c%3A/Users/user/Desktop/maturita/imageClassification.ipynb#X13sZmlsZQ%3D%3D?line=1'>2</a>\u001b[0m history \u001b[39m=\u001b[39m model\u001b[39m.\u001b[39;49mfit(\n\u001b[0;32m      <a href='vscode-notebook-cell:/c%3A/Users/user/Desktop/maturita/imageClassification.ipynb#X13sZmlsZQ%3D%3D?line=2'>3</a>\u001b[0m   train_ds,\n\u001b[0;32m      <a href='vscode-notebook-cell:/c%3A/Users/user/Desktop/maturita/imageClassification.ipynb#X13sZmlsZQ%3D%3D?line=3'>4</a>\u001b[0m   validation_data\u001b[39m=\u001b[39;49mval_ds,\n\u001b[0;32m      <a href='vscode-notebook-cell:/c%3A/Users/user/Desktop/maturita/imageClassification.ipynb#X13sZmlsZQ%3D%3D?line=4'>5</a>\u001b[0m   epochs\u001b[39m=\u001b[39;49mepochs,\n\u001b[0;32m      <a href='vscode-notebook-cell:/c%3A/Users/user/Desktop/maturita/imageClassification.ipynb#X13sZmlsZQ%3D%3D?line=5'>6</a>\u001b[0m )\n",
      "File \u001b[1;32mc:\\Users\\user\\anaconda3\\lib\\site-packages\\keras\\utils\\traceback_utils.py:65\u001b[0m, in \u001b[0;36mfilter_traceback.<locals>.error_handler\u001b[1;34m(*args, **kwargs)\u001b[0m\n\u001b[0;32m     63\u001b[0m filtered_tb \u001b[39m=\u001b[39m \u001b[39mNone\u001b[39;00m\n\u001b[0;32m     64\u001b[0m \u001b[39mtry\u001b[39;00m:\n\u001b[1;32m---> 65\u001b[0m     \u001b[39mreturn\u001b[39;00m fn(\u001b[39m*\u001b[39margs, \u001b[39m*\u001b[39m\u001b[39m*\u001b[39mkwargs)\n\u001b[0;32m     66\u001b[0m \u001b[39mexcept\u001b[39;00m \u001b[39mException\u001b[39;00m \u001b[39mas\u001b[39;00m e:\n\u001b[0;32m     67\u001b[0m     filtered_tb \u001b[39m=\u001b[39m _process_traceback_frames(e\u001b[39m.\u001b[39m__traceback__)\n",
      "File \u001b[1;32mc:\\Users\\user\\anaconda3\\lib\\site-packages\\keras\\engine\\training.py:1685\u001b[0m, in \u001b[0;36mModel.fit\u001b[1;34m(self, x, y, batch_size, epochs, verbose, callbacks, validation_split, validation_data, shuffle, class_weight, sample_weight, initial_epoch, steps_per_epoch, validation_steps, validation_batch_size, validation_freq, max_queue_size, workers, use_multiprocessing)\u001b[0m\n\u001b[0;32m   1677\u001b[0m \u001b[39mwith\u001b[39;00m tf\u001b[39m.\u001b[39mprofiler\u001b[39m.\u001b[39mexperimental\u001b[39m.\u001b[39mTrace(\n\u001b[0;32m   1678\u001b[0m     \u001b[39m\"\u001b[39m\u001b[39mtrain\u001b[39m\u001b[39m\"\u001b[39m,\n\u001b[0;32m   1679\u001b[0m     epoch_num\u001b[39m=\u001b[39mepoch,\n\u001b[1;32m   (...)\u001b[0m\n\u001b[0;32m   1682\u001b[0m     _r\u001b[39m=\u001b[39m\u001b[39m1\u001b[39m,\n\u001b[0;32m   1683\u001b[0m ):\n\u001b[0;32m   1684\u001b[0m     callbacks\u001b[39m.\u001b[39mon_train_batch_begin(step)\n\u001b[1;32m-> 1685\u001b[0m     tmp_logs \u001b[39m=\u001b[39m \u001b[39mself\u001b[39;49m\u001b[39m.\u001b[39;49mtrain_function(iterator)\n\u001b[0;32m   1686\u001b[0m     \u001b[39mif\u001b[39;00m data_handler\u001b[39m.\u001b[39mshould_sync:\n\u001b[0;32m   1687\u001b[0m         context\u001b[39m.\u001b[39masync_wait()\n",
      "File \u001b[1;32mc:\\Users\\user\\anaconda3\\lib\\site-packages\\tensorflow\\python\\util\\traceback_utils.py:150\u001b[0m, in \u001b[0;36mfilter_traceback.<locals>.error_handler\u001b[1;34m(*args, **kwargs)\u001b[0m\n\u001b[0;32m    148\u001b[0m filtered_tb \u001b[39m=\u001b[39m \u001b[39mNone\u001b[39;00m\n\u001b[0;32m    149\u001b[0m \u001b[39mtry\u001b[39;00m:\n\u001b[1;32m--> 150\u001b[0m   \u001b[39mreturn\u001b[39;00m fn(\u001b[39m*\u001b[39margs, \u001b[39m*\u001b[39m\u001b[39m*\u001b[39mkwargs)\n\u001b[0;32m    151\u001b[0m \u001b[39mexcept\u001b[39;00m \u001b[39mException\u001b[39;00m \u001b[39mas\u001b[39;00m e:\n\u001b[0;32m    152\u001b[0m   filtered_tb \u001b[39m=\u001b[39m _process_traceback_frames(e\u001b[39m.\u001b[39m__traceback__)\n",
      "File \u001b[1;32mc:\\Users\\user\\anaconda3\\lib\\site-packages\\tensorflow\\python\\eager\\polymorphic_function\\polymorphic_function.py:894\u001b[0m, in \u001b[0;36mFunction.__call__\u001b[1;34m(self, *args, **kwds)\u001b[0m\n\u001b[0;32m    891\u001b[0m compiler \u001b[39m=\u001b[39m \u001b[39m\"\u001b[39m\u001b[39mxla\u001b[39m\u001b[39m\"\u001b[39m \u001b[39mif\u001b[39;00m \u001b[39mself\u001b[39m\u001b[39m.\u001b[39m_jit_compile \u001b[39melse\u001b[39;00m \u001b[39m\"\u001b[39m\u001b[39mnonXla\u001b[39m\u001b[39m\"\u001b[39m\n\u001b[0;32m    893\u001b[0m \u001b[39mwith\u001b[39;00m OptionalXlaContext(\u001b[39mself\u001b[39m\u001b[39m.\u001b[39m_jit_compile):\n\u001b[1;32m--> 894\u001b[0m   result \u001b[39m=\u001b[39m \u001b[39mself\u001b[39m\u001b[39m.\u001b[39m_call(\u001b[39m*\u001b[39margs, \u001b[39m*\u001b[39m\u001b[39m*\u001b[39mkwds)\n\u001b[0;32m    896\u001b[0m new_tracing_count \u001b[39m=\u001b[39m \u001b[39mself\u001b[39m\u001b[39m.\u001b[39mexperimental_get_tracing_count()\n\u001b[0;32m    897\u001b[0m without_tracing \u001b[39m=\u001b[39m (tracing_count \u001b[39m==\u001b[39m new_tracing_count)\n",
      "File \u001b[1;32mc:\\Users\\user\\anaconda3\\lib\\site-packages\\tensorflow\\python\\eager\\polymorphic_function\\polymorphic_function.py:926\u001b[0m, in \u001b[0;36mFunction._call\u001b[1;34m(self, *args, **kwds)\u001b[0m\n\u001b[0;32m    923\u001b[0m   \u001b[39mself\u001b[39m\u001b[39m.\u001b[39m_lock\u001b[39m.\u001b[39mrelease()\n\u001b[0;32m    924\u001b[0m   \u001b[39m# In this case we have created variables on the first call, so we run the\u001b[39;00m\n\u001b[0;32m    925\u001b[0m   \u001b[39m# defunned version which is guaranteed to never create variables.\u001b[39;00m\n\u001b[1;32m--> 926\u001b[0m   \u001b[39mreturn\u001b[39;00m \u001b[39mself\u001b[39m\u001b[39m.\u001b[39m_no_variable_creation_fn(\u001b[39m*\u001b[39margs, \u001b[39m*\u001b[39m\u001b[39m*\u001b[39mkwds)  \u001b[39m# pylint: disable=not-callable\u001b[39;00m\n\u001b[0;32m    927\u001b[0m \u001b[39melif\u001b[39;00m \u001b[39mself\u001b[39m\u001b[39m.\u001b[39m_variable_creation_fn \u001b[39mis\u001b[39;00m \u001b[39mnot\u001b[39;00m \u001b[39mNone\u001b[39;00m:\n\u001b[0;32m    928\u001b[0m   \u001b[39m# Release the lock early so that multiple threads can perform the call\u001b[39;00m\n\u001b[0;32m    929\u001b[0m   \u001b[39m# in parallel.\u001b[39;00m\n\u001b[0;32m    930\u001b[0m   \u001b[39mself\u001b[39m\u001b[39m.\u001b[39m_lock\u001b[39m.\u001b[39mrelease()\n",
      "File \u001b[1;32mc:\\Users\\user\\anaconda3\\lib\\site-packages\\tensorflow\\python\\eager\\polymorphic_function\\tracing_compiler.py:143\u001b[0m, in \u001b[0;36mTracingCompiler.__call__\u001b[1;34m(self, *args, **kwargs)\u001b[0m\n\u001b[0;32m    140\u001b[0m \u001b[39mwith\u001b[39;00m \u001b[39mself\u001b[39m\u001b[39m.\u001b[39m_lock:\n\u001b[0;32m    141\u001b[0m   (concrete_function,\n\u001b[0;32m    142\u001b[0m    filtered_flat_args) \u001b[39m=\u001b[39m \u001b[39mself\u001b[39m\u001b[39m.\u001b[39m_maybe_define_function(args, kwargs)\n\u001b[1;32m--> 143\u001b[0m \u001b[39mreturn\u001b[39;00m concrete_function\u001b[39m.\u001b[39;49m_call_flat(\n\u001b[0;32m    144\u001b[0m     filtered_flat_args, captured_inputs\u001b[39m=\u001b[39;49mconcrete_function\u001b[39m.\u001b[39;49mcaptured_inputs)\n",
      "File \u001b[1;32mc:\\Users\\user\\anaconda3\\lib\\site-packages\\tensorflow\\python\\eager\\polymorphic_function\\monomorphic_function.py:1757\u001b[0m, in \u001b[0;36mConcreteFunction._call_flat\u001b[1;34m(self, args, captured_inputs, cancellation_manager)\u001b[0m\n\u001b[0;32m   1753\u001b[0m possible_gradient_type \u001b[39m=\u001b[39m gradients_util\u001b[39m.\u001b[39mPossibleTapeGradientTypes(args)\n\u001b[0;32m   1754\u001b[0m \u001b[39mif\u001b[39;00m (possible_gradient_type \u001b[39m==\u001b[39m gradients_util\u001b[39m.\u001b[39mPOSSIBLE_GRADIENT_TYPES_NONE\n\u001b[0;32m   1755\u001b[0m     \u001b[39mand\u001b[39;00m executing_eagerly):\n\u001b[0;32m   1756\u001b[0m   \u001b[39m# No tape is watching; skip to running the function.\u001b[39;00m\n\u001b[1;32m-> 1757\u001b[0m   \u001b[39mreturn\u001b[39;00m \u001b[39mself\u001b[39m\u001b[39m.\u001b[39m_build_call_outputs(\u001b[39mself\u001b[39;49m\u001b[39m.\u001b[39;49m_inference_function\u001b[39m.\u001b[39;49mcall(\n\u001b[0;32m   1758\u001b[0m       ctx, args, cancellation_manager\u001b[39m=\u001b[39;49mcancellation_manager))\n\u001b[0;32m   1759\u001b[0m forward_backward \u001b[39m=\u001b[39m \u001b[39mself\u001b[39m\u001b[39m.\u001b[39m_select_forward_and_backward_functions(\n\u001b[0;32m   1760\u001b[0m     args,\n\u001b[0;32m   1761\u001b[0m     possible_gradient_type,\n\u001b[0;32m   1762\u001b[0m     executing_eagerly)\n\u001b[0;32m   1763\u001b[0m forward_function, args_with_tangents \u001b[39m=\u001b[39m forward_backward\u001b[39m.\u001b[39mforward()\n",
      "File \u001b[1;32mc:\\Users\\user\\anaconda3\\lib\\site-packages\\tensorflow\\python\\eager\\polymorphic_function\\monomorphic_function.py:381\u001b[0m, in \u001b[0;36m_EagerDefinedFunction.call\u001b[1;34m(self, ctx, args, cancellation_manager)\u001b[0m\n\u001b[0;32m    379\u001b[0m \u001b[39mwith\u001b[39;00m _InterpolateFunctionError(\u001b[39mself\u001b[39m):\n\u001b[0;32m    380\u001b[0m   \u001b[39mif\u001b[39;00m cancellation_manager \u001b[39mis\u001b[39;00m \u001b[39mNone\u001b[39;00m:\n\u001b[1;32m--> 381\u001b[0m     outputs \u001b[39m=\u001b[39m execute\u001b[39m.\u001b[39;49mexecute(\n\u001b[0;32m    382\u001b[0m         \u001b[39mstr\u001b[39;49m(\u001b[39mself\u001b[39;49m\u001b[39m.\u001b[39;49msignature\u001b[39m.\u001b[39;49mname),\n\u001b[0;32m    383\u001b[0m         num_outputs\u001b[39m=\u001b[39;49m\u001b[39mself\u001b[39;49m\u001b[39m.\u001b[39;49m_num_outputs,\n\u001b[0;32m    384\u001b[0m         inputs\u001b[39m=\u001b[39;49margs,\n\u001b[0;32m    385\u001b[0m         attrs\u001b[39m=\u001b[39;49mattrs,\n\u001b[0;32m    386\u001b[0m         ctx\u001b[39m=\u001b[39;49mctx)\n\u001b[0;32m    387\u001b[0m   \u001b[39melse\u001b[39;00m:\n\u001b[0;32m    388\u001b[0m     outputs \u001b[39m=\u001b[39m execute\u001b[39m.\u001b[39mexecute_with_cancellation(\n\u001b[0;32m    389\u001b[0m         \u001b[39mstr\u001b[39m(\u001b[39mself\u001b[39m\u001b[39m.\u001b[39msignature\u001b[39m.\u001b[39mname),\n\u001b[0;32m    390\u001b[0m         num_outputs\u001b[39m=\u001b[39m\u001b[39mself\u001b[39m\u001b[39m.\u001b[39m_num_outputs,\n\u001b[1;32m   (...)\u001b[0m\n\u001b[0;32m    393\u001b[0m         ctx\u001b[39m=\u001b[39mctx,\n\u001b[0;32m    394\u001b[0m         cancellation_manager\u001b[39m=\u001b[39mcancellation_manager)\n",
      "File \u001b[1;32mc:\\Users\\user\\anaconda3\\lib\\site-packages\\tensorflow\\python\\eager\\execute.py:52\u001b[0m, in \u001b[0;36mquick_execute\u001b[1;34m(op_name, num_outputs, inputs, attrs, ctx, name)\u001b[0m\n\u001b[0;32m     50\u001b[0m \u001b[39mtry\u001b[39;00m:\n\u001b[0;32m     51\u001b[0m   ctx\u001b[39m.\u001b[39mensure_initialized()\n\u001b[1;32m---> 52\u001b[0m   tensors \u001b[39m=\u001b[39m pywrap_tfe\u001b[39m.\u001b[39;49mTFE_Py_Execute(ctx\u001b[39m.\u001b[39;49m_handle, device_name, op_name,\n\u001b[0;32m     53\u001b[0m                                       inputs, attrs, num_outputs)\n\u001b[0;32m     54\u001b[0m \u001b[39mexcept\u001b[39;00m core\u001b[39m.\u001b[39m_NotOkStatusException \u001b[39mas\u001b[39;00m e:\n\u001b[0;32m     55\u001b[0m   \u001b[39mif\u001b[39;00m name \u001b[39mis\u001b[39;00m \u001b[39mnot\u001b[39;00m \u001b[39mNone\u001b[39;00m:\n",
      "\u001b[1;31mKeyboardInterrupt\u001b[0m: "
     ]
    }
   ],
   "source": [
    "epochs = 50\n",
    "history = model.fit(\n",
    "  train_ds,\n",
    "  validation_data=val_ds,\n",
    "  epochs=epochs,\n",
    ")"
   ]
  },
  {
   "cell_type": "code",
   "execution_count": null,
   "metadata": {},
   "outputs": [],
   "source": [
    "from tensorflow.keras.preprocessing import image\n",
    "for i in range(1, 6):\n",
    "    img_url = './data/test/hockey/' + str(i) + '.jpg'\n",
    "    img = image.load_img(img_url, target_size=(img_height, img_width))\n",
    "    imgShow = image.load_img(img_url)\n",
    "\n",
    "    # Convert the image to an array and expand dimensions\n",
    "    X = image.img_to_array(img)\n",
    "    X = np.expand_dims(X, axis=0)\n",
    "    images = np.vstack([X])\n",
    "\n",
    "    # Perform inference using the model\n",
    "    val = model.predict(images, verbose=0)\n",
    "    index = np.where(val == 1)[1]\n",
    "    print(val)\n",
    "    \n",
    "\n",
    "    predicted_class_index = np.argmax(val)\n",
    "\n",
    "    # Get the corresponding class label\n",
    "    predicted_class_label = class_names[predicted_class_index]\n",
    "\n",
    "    # Join class labels into a comma-separated string\n",
    "    class_labels_string = \", \".join(class_names)\n",
    "\n",
    "    # Print the predicted class label and the comma-separated list of all class labels\n",
    "    print(\"Predicted class label:\", predicted_class_label)\n",
    "    print((class_names[np.argmax(val)], 100 * np.max(val)))\n",
    "    # Display the vignette image\n",
    "    plt.imshow(imgShow)\n",
    "    plt.show()"
   ]
  },
  {
   "cell_type": "code",
   "execution_count": null,
   "metadata": {},
   "outputs": [],
   "source": [
    "from sklearn.metrics import confusion_matrix\n",
    "\n",
    "print(confusion_matrix(train_ds, val_ds))"
   ]
  },
  {
   "cell_type": "code",
   "execution_count": null,
   "metadata": {},
   "outputs": [],
   "source": [
    "import os\n",
    "import shutil \n",
    "\n",
    "def delete_folders_with_name(root_folder, folder_name_to_delete):\n",
    "    folder_path = os.path.join(root_folder, folder_name_to_delete)\n",
    "    try:\n",
    "        shutil.rmtree(folder_path)\n",
    "        print(f\"Deleted folder: {folder_path}\")\n",
    "    except Exception as e:\n",
    "        print(f\"Error deleting folder: {folder_path} - {e}\")\n",
    "\n",
    "root_folder_train = './data/train/'\n",
    "root_folder_test = './data/test/'\n",
    "root_folder_valid = './data/valid/'\n",
    "folder_name_to_delete = 'cricket'\n",
    "\n",
    "if os.path.exists(root_folder_train):\n",
    "    #confirm = input(f\"Are you sure you want to delete all '{folder_name_to_delete}' folders in {root_folder}? (y/n): \").strip().lower()\n",
    "    delete_folders_with_name(root_folder_train, folder_name_to_delete)\n",
    "    delete_folders_with_name(root_folder_test, folder_name_to_delete)\n",
    "    delete_folders_with_name(root_folder_valid, folder_name_to_delete)\n",
    "    print(f\"All '{folder_name_to_delete}' folders have been deleted.\")\n",
    "else:\n",
    "    print(\"The specified root folder does not exist.\")"
   ]
  }
 ],
 "metadata": {
  "kernelspec": {
   "display_name": "base",
   "language": "python",
   "name": "python3"
  },
  "language_info": {
   "codemirror_mode": {
    "name": "ipython",
    "version": 3
   },
   "file_extension": ".py",
   "mimetype": "text/x-python",
   "name": "python",
   "nbconvert_exporter": "python",
   "pygments_lexer": "ipython3",
   "version": "3.10.9"
  },
  "orig_nbformat": 4
 },
 "nbformat": 4,
 "nbformat_minor": 2
}
